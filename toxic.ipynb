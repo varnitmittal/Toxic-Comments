{
 "cells": [
  {
   "cell_type": "code",
   "execution_count": 1,
   "metadata": {
    "_cell_guid": "b1076dfc-b9ad-4769-8c92-a6c4dae69d19",
    "_uuid": "8f2839f25d086af736a60e9eeb907d3b93b6e0e5"
   },
   "outputs": [
    {
     "name": "stdout",
     "output_type": "stream",
     "text": [
      "['train.csv', 'sample_submission.csv', 'test_labels.csv', 'test.csv']\n"
     ]
    }
   ],
   "source": [
    "import os\n",
    "print(os.listdir(\"../input\"))"
   ]
  },
  {
   "cell_type": "markdown",
   "metadata": {},
   "source": [
    "# Libraries"
   ]
  },
  {
   "cell_type": "code",
   "execution_count": 2,
   "metadata": {},
   "outputs": [
    {
     "name": "stdout",
     "output_type": "stream",
     "text": [
      "[nltk_data] Downloading package stopwords to /usr/share/nltk_data...\n",
      "[nltk_data]   Unzipping corpora/stopwords.zip.\n",
      "[nltk_data] Downloading package wordnet to /usr/share/nltk_data...\n",
      "[nltk_data]   Package wordnet is already up-to-date!\n"
     ]
    },
    {
     "data": {
      "text/plain": [
       "True"
      ]
     },
     "execution_count": 2,
     "metadata": {},
     "output_type": "execute_result"
    }
   ],
   "source": [
    "#importing basic libraries\n",
    "import pandas as pd\n",
    "import numpy as np\n",
    "import matplotlib.pyplot as plt\n",
    "\n",
    "import nltk\n",
    "nltk.download('stopwords') #one-time\n",
    "nltk.download('wordnet') #one-time"
   ]
  },
  {
   "cell_type": "code",
   "execution_count": 3,
   "metadata": {},
   "outputs": [],
   "source": [
    "#importing files\n",
    "from nltk.corpus import stopwords\n",
    "import re\n",
    "from nltk.stem.porter import PorterStemmer\n",
    "from nltk.stem import WordNetLemmatizer\n",
    "#instatiate\n",
    "wnl = WordNetLemmatizer()\n",
    "ps = PorterStemmer()"
   ]
  },
  {
   "cell_type": "markdown",
   "metadata": {},
   "source": [
    "# Getting the Data"
   ]
  },
  {
   "cell_type": "code",
   "execution_count": 4,
   "metadata": {},
   "outputs": [
    {
     "data": {
      "text/html": [
       "<div>\n",
       "<style scoped>\n",
       "    .dataframe tbody tr th:only-of-type {\n",
       "        vertical-align: middle;\n",
       "    }\n",
       "\n",
       "    .dataframe tbody tr th {\n",
       "        vertical-align: top;\n",
       "    }\n",
       "\n",
       "    .dataframe thead th {\n",
       "        text-align: right;\n",
       "    }\n",
       "</style>\n",
       "<table border=\"1\" class=\"dataframe\">\n",
       "  <thead>\n",
       "    <tr style=\"text-align: right;\">\n",
       "      <th></th>\n",
       "      <th>id</th>\n",
       "      <th>comment_text</th>\n",
       "      <th>toxic</th>\n",
       "      <th>severe_toxic</th>\n",
       "      <th>obscene</th>\n",
       "      <th>threat</th>\n",
       "      <th>insult</th>\n",
       "      <th>identity_hate</th>\n",
       "    </tr>\n",
       "  </thead>\n",
       "  <tbody>\n",
       "    <tr>\n",
       "      <th>0</th>\n",
       "      <td>0000997932d777bf</td>\n",
       "      <td>Explanation\\nWhy the edits made under my usern...</td>\n",
       "      <td>0</td>\n",
       "      <td>0</td>\n",
       "      <td>0</td>\n",
       "      <td>0</td>\n",
       "      <td>0</td>\n",
       "      <td>0</td>\n",
       "    </tr>\n",
       "    <tr>\n",
       "      <th>1</th>\n",
       "      <td>000103f0d9cfb60f</td>\n",
       "      <td>D'aww! He matches this background colour I'm s...</td>\n",
       "      <td>0</td>\n",
       "      <td>0</td>\n",
       "      <td>0</td>\n",
       "      <td>0</td>\n",
       "      <td>0</td>\n",
       "      <td>0</td>\n",
       "    </tr>\n",
       "    <tr>\n",
       "      <th>2</th>\n",
       "      <td>000113f07ec002fd</td>\n",
       "      <td>Hey man, I'm really not trying to edit war. It...</td>\n",
       "      <td>0</td>\n",
       "      <td>0</td>\n",
       "      <td>0</td>\n",
       "      <td>0</td>\n",
       "      <td>0</td>\n",
       "      <td>0</td>\n",
       "    </tr>\n",
       "    <tr>\n",
       "      <th>3</th>\n",
       "      <td>0001b41b1c6bb37e</td>\n",
       "      <td>\"\\nMore\\nI can't make any real suggestions on ...</td>\n",
       "      <td>0</td>\n",
       "      <td>0</td>\n",
       "      <td>0</td>\n",
       "      <td>0</td>\n",
       "      <td>0</td>\n",
       "      <td>0</td>\n",
       "    </tr>\n",
       "    <tr>\n",
       "      <th>4</th>\n",
       "      <td>0001d958c54c6e35</td>\n",
       "      <td>You, sir, are my hero. Any chance you remember...</td>\n",
       "      <td>0</td>\n",
       "      <td>0</td>\n",
       "      <td>0</td>\n",
       "      <td>0</td>\n",
       "      <td>0</td>\n",
       "      <td>0</td>\n",
       "    </tr>\n",
       "    <tr>\n",
       "      <th>5</th>\n",
       "      <td>00025465d4725e87</td>\n",
       "      <td>\"\\n\\nCongratulations from me as well, use the ...</td>\n",
       "      <td>0</td>\n",
       "      <td>0</td>\n",
       "      <td>0</td>\n",
       "      <td>0</td>\n",
       "      <td>0</td>\n",
       "      <td>0</td>\n",
       "    </tr>\n",
       "    <tr>\n",
       "      <th>6</th>\n",
       "      <td>0002bcb3da6cb337</td>\n",
       "      <td>COCKSUCKER BEFORE YOU PISS AROUND ON MY WORK</td>\n",
       "      <td>1</td>\n",
       "      <td>1</td>\n",
       "      <td>1</td>\n",
       "      <td>0</td>\n",
       "      <td>1</td>\n",
       "      <td>0</td>\n",
       "    </tr>\n",
       "    <tr>\n",
       "      <th>7</th>\n",
       "      <td>00031b1e95af7921</td>\n",
       "      <td>Your vandalism to the Matt Shirvington article...</td>\n",
       "      <td>0</td>\n",
       "      <td>0</td>\n",
       "      <td>0</td>\n",
       "      <td>0</td>\n",
       "      <td>0</td>\n",
       "      <td>0</td>\n",
       "    </tr>\n",
       "    <tr>\n",
       "      <th>8</th>\n",
       "      <td>00037261f536c51d</td>\n",
       "      <td>Sorry if the word 'nonsense' was offensive to ...</td>\n",
       "      <td>0</td>\n",
       "      <td>0</td>\n",
       "      <td>0</td>\n",
       "      <td>0</td>\n",
       "      <td>0</td>\n",
       "      <td>0</td>\n",
       "    </tr>\n",
       "    <tr>\n",
       "      <th>9</th>\n",
       "      <td>00040093b2687caa</td>\n",
       "      <td>alignment on this subject and which are contra...</td>\n",
       "      <td>0</td>\n",
       "      <td>0</td>\n",
       "      <td>0</td>\n",
       "      <td>0</td>\n",
       "      <td>0</td>\n",
       "      <td>0</td>\n",
       "    </tr>\n",
       "    <tr>\n",
       "      <th>10</th>\n",
       "      <td>0005300084f90edc</td>\n",
       "      <td>\"\\nFair use rationale for Image:Wonju.jpg\\n\\nT...</td>\n",
       "      <td>0</td>\n",
       "      <td>0</td>\n",
       "      <td>0</td>\n",
       "      <td>0</td>\n",
       "      <td>0</td>\n",
       "      <td>0</td>\n",
       "    </tr>\n",
       "    <tr>\n",
       "      <th>11</th>\n",
       "      <td>00054a5e18b50dd4</td>\n",
       "      <td>bbq \\n\\nbe a man and lets discuss it-maybe ove...</td>\n",
       "      <td>0</td>\n",
       "      <td>0</td>\n",
       "      <td>0</td>\n",
       "      <td>0</td>\n",
       "      <td>0</td>\n",
       "      <td>0</td>\n",
       "    </tr>\n",
       "    <tr>\n",
       "      <th>12</th>\n",
       "      <td>0005c987bdfc9d4b</td>\n",
       "      <td>Hey... what is it..\\n@ | talk .\\nWhat is it......</td>\n",
       "      <td>1</td>\n",
       "      <td>0</td>\n",
       "      <td>0</td>\n",
       "      <td>0</td>\n",
       "      <td>0</td>\n",
       "      <td>0</td>\n",
       "    </tr>\n",
       "  </tbody>\n",
       "</table>\n",
       "</div>"
      ],
      "text/plain": [
       "                  id      ...      identity_hate\n",
       "0   0000997932d777bf      ...                  0\n",
       "1   000103f0d9cfb60f      ...                  0\n",
       "2   000113f07ec002fd      ...                  0\n",
       "3   0001b41b1c6bb37e      ...                  0\n",
       "4   0001d958c54c6e35      ...                  0\n",
       "5   00025465d4725e87      ...                  0\n",
       "6   0002bcb3da6cb337      ...                  0\n",
       "7   00031b1e95af7921      ...                  0\n",
       "8   00037261f536c51d      ...                  0\n",
       "9   00040093b2687caa      ...                  0\n",
       "10  0005300084f90edc      ...                  0\n",
       "11  00054a5e18b50dd4      ...                  0\n",
       "12  0005c987bdfc9d4b      ...                  0\n",
       "\n",
       "[13 rows x 8 columns]"
      ]
     },
     "execution_count": 4,
     "metadata": {},
     "output_type": "execute_result"
    }
   ],
   "source": [
    "#import training data\n",
    "df = pd.read_csv('../input/train.csv', quotechar='\"', skipinitialspace=True)\n",
    "df.head(13)"
   ]
  },
  {
   "cell_type": "code",
   "execution_count": 5,
   "metadata": {},
   "outputs": [
    {
     "data": {
      "text/html": [
       "<div>\n",
       "<style scoped>\n",
       "    .dataframe tbody tr th:only-of-type {\n",
       "        vertical-align: middle;\n",
       "    }\n",
       "\n",
       "    .dataframe tbody tr th {\n",
       "        vertical-align: top;\n",
       "    }\n",
       "\n",
       "    .dataframe thead th {\n",
       "        text-align: right;\n",
       "    }\n",
       "</style>\n",
       "<table border=\"1\" class=\"dataframe\">\n",
       "  <thead>\n",
       "    <tr style=\"text-align: right;\">\n",
       "      <th></th>\n",
       "      <th>toxic</th>\n",
       "      <th>severe_toxic</th>\n",
       "      <th>obscene</th>\n",
       "      <th>threat</th>\n",
       "      <th>insult</th>\n",
       "      <th>identity_hate</th>\n",
       "    </tr>\n",
       "  </thead>\n",
       "  <tbody>\n",
       "    <tr>\n",
       "      <th>count</th>\n",
       "      <td>159571.000000</td>\n",
       "      <td>159571.000000</td>\n",
       "      <td>159571.000000</td>\n",
       "      <td>159571.000000</td>\n",
       "      <td>159571.000000</td>\n",
       "      <td>159571.000000</td>\n",
       "    </tr>\n",
       "    <tr>\n",
       "      <th>mean</th>\n",
       "      <td>0.095844</td>\n",
       "      <td>0.009996</td>\n",
       "      <td>0.052948</td>\n",
       "      <td>0.002996</td>\n",
       "      <td>0.049364</td>\n",
       "      <td>0.008805</td>\n",
       "    </tr>\n",
       "    <tr>\n",
       "      <th>std</th>\n",
       "      <td>0.294379</td>\n",
       "      <td>0.099477</td>\n",
       "      <td>0.223931</td>\n",
       "      <td>0.054650</td>\n",
       "      <td>0.216627</td>\n",
       "      <td>0.093420</td>\n",
       "    </tr>\n",
       "    <tr>\n",
       "      <th>min</th>\n",
       "      <td>0.000000</td>\n",
       "      <td>0.000000</td>\n",
       "      <td>0.000000</td>\n",
       "      <td>0.000000</td>\n",
       "      <td>0.000000</td>\n",
       "      <td>0.000000</td>\n",
       "    </tr>\n",
       "    <tr>\n",
       "      <th>25%</th>\n",
       "      <td>0.000000</td>\n",
       "      <td>0.000000</td>\n",
       "      <td>0.000000</td>\n",
       "      <td>0.000000</td>\n",
       "      <td>0.000000</td>\n",
       "      <td>0.000000</td>\n",
       "    </tr>\n",
       "    <tr>\n",
       "      <th>50%</th>\n",
       "      <td>0.000000</td>\n",
       "      <td>0.000000</td>\n",
       "      <td>0.000000</td>\n",
       "      <td>0.000000</td>\n",
       "      <td>0.000000</td>\n",
       "      <td>0.000000</td>\n",
       "    </tr>\n",
       "    <tr>\n",
       "      <th>75%</th>\n",
       "      <td>0.000000</td>\n",
       "      <td>0.000000</td>\n",
       "      <td>0.000000</td>\n",
       "      <td>0.000000</td>\n",
       "      <td>0.000000</td>\n",
       "      <td>0.000000</td>\n",
       "    </tr>\n",
       "    <tr>\n",
       "      <th>max</th>\n",
       "      <td>1.000000</td>\n",
       "      <td>1.000000</td>\n",
       "      <td>1.000000</td>\n",
       "      <td>1.000000</td>\n",
       "      <td>1.000000</td>\n",
       "      <td>1.000000</td>\n",
       "    </tr>\n",
       "  </tbody>\n",
       "</table>\n",
       "</div>"
      ],
      "text/plain": [
       "               toxic   severe_toxic      ...               insult  identity_hate\n",
       "count  159571.000000  159571.000000      ...        159571.000000  159571.000000\n",
       "mean        0.095844       0.009996      ...             0.049364       0.008805\n",
       "std         0.294379       0.099477      ...             0.216627       0.093420\n",
       "min         0.000000       0.000000      ...             0.000000       0.000000\n",
       "25%         0.000000       0.000000      ...             0.000000       0.000000\n",
       "50%         0.000000       0.000000      ...             0.000000       0.000000\n",
       "75%         0.000000       0.000000      ...             0.000000       0.000000\n",
       "max         1.000000       1.000000      ...             1.000000       1.000000\n",
       "\n",
       "[8 rows x 6 columns]"
      ]
     },
     "execution_count": 5,
     "metadata": {},
     "output_type": "execute_result"
    }
   ],
   "source": [
    "df.describe()"
   ]
  },
  {
   "cell_type": "code",
   "execution_count": 6,
   "metadata": {},
   "outputs": [
    {
     "data": {
      "text/plain": [
       "\"Explanation\\nWhy the edits made under my username Hardcore Metallica Fan were reverted? They weren't vandalisms, just closure on some GAs after I voted at New York Dolls FAC. And please don't remove the template from the talk page since I'm retired now.89.205.38.27\""
      ]
     },
     "execution_count": 6,
     "metadata": {},
     "output_type": "execute_result"
    }
   ],
   "source": [
    "df['comment_text'][0]"
   ]
  },
  {
   "cell_type": "markdown",
   "metadata": {},
   "source": [
    "# Basic Data Exploration"
   ]
  },
  {
   "cell_type": "code",
   "execution_count": 7,
   "metadata": {},
   "outputs": [],
   "source": [
    "cols = ['toxic', 'severe_toxic', 'obscene', 'threat', 'insult', 'identity_hate']"
   ]
  },
  {
   "cell_type": "code",
   "execution_count": 8,
   "metadata": {},
   "outputs": [
    {
     "data": {
      "text/plain": [
       "array([[144277, 157976, 151122, 159093, 151694, 158166],\n",
       "       [ 15294,   1595,   8449,    478,   7877,   1405]])"
      ]
     },
     "execution_count": 8,
     "metadata": {},
     "output_type": "execute_result"
    }
   ],
   "source": [
    "#basic data exploration\n",
    "ones = df.iloc[:,[2,3,4,5,6,7]].apply(pd.value_counts)\n",
    "ones = ones.values\n",
    "ones"
   ]
  },
  {
   "cell_type": "code",
   "execution_count": 9,
   "metadata": {},
   "outputs": [
    {
     "data": {
      "image/png": "[encoded data removed]",
      "text/plain": [
       "<Figure size 432x288 with 1 Axes>"
      ]
     },
     "metadata": {},
     "output_type": "display_data"
    }
   ],
   "source": [
    "#bar-plot to compare the count of ones and zeros\n",
    "index = np.arange(6)\n",
    "width = 0.35\n",
    "op = 0.9\n",
    "plt.bar(index, ones[0], width, alpha=op, color='blue',label='count of zeros')\n",
    "plt.bar(index + width, ones[1], width, alpha=op, color='green', label='count of ones')\n",
    "plt.xlabel('category')\n",
    "plt.ylabel('Scores')\n",
    "plt.title('occurance count')\n",
    "plt.xticks(index + (width/1.5), cols)\n",
    "plt.legend()\n",
    "plt.show()"
   ]
  },
  {
   "cell_type": "code",
   "execution_count": 10,
   "metadata": {},
   "outputs": [
    {
     "data": {
      "image/png": "[encoded data removed]",
      "text/plain": [
       "<Figure size 504x648 with 6 Axes>"
      ]
     },
     "metadata": {},
     "output_type": "display_data"
    }
   ],
   "source": [
    "#column-wise histogram plot \n",
    "hist = df.hist(column=cols, figsize=(7,9), bins=4)"
   ]
  },
  {
   "cell_type": "markdown",
   "metadata": {},
   "source": [
    "# Data Preprocessing"
   ]
  },
  {
   "cell_type": "code",
   "execution_count": 11,
   "metadata": {},
   "outputs": [
    {
     "data": {
      "text/plain": [
       "\"Explanation\\nWhy the edits made under my username Hardcore Metallica Fan were reverted? They weren't vandalisms, just closure on some GAs after I voted at New York Dolls FAC. And please don't remove the template from the talk page since I'm retired now.89.205.38.27\""
      ]
     },
     "execution_count": 11,
     "metadata": {},
     "output_type": "execute_result"
    }
   ],
   "source": [
    "#separating out the comment_text\n",
    "comments = df.iloc[:,1].values\n",
    "comments[0]"
   ]
  },
  {
   "cell_type": "code",
   "execution_count": 12,
   "metadata": {},
   "outputs": [
    {
     "name": "stdout",
     "output_type": "stream",
     "text": [
      "264\n"
     ]
    }
   ],
   "source": [
    "print(len(comments[0]))"
   ]
  },
  {
   "cell_type": "code",
   "execution_count": 13,
   "metadata": {},
   "outputs": [
    {
     "data": {
      "text/plain": [
       "0          264\n",
       "1          112\n",
       "2          233\n",
       "3          622\n",
       "4           67\n",
       "5           65\n",
       "6           44\n",
       "7          115\n",
       "8          472\n",
       "9           70\n",
       "10        2875\n",
       "11          56\n",
       "12         319\n",
       "13         819\n",
       "14         219\n",
       "15         610\n",
       "16          57\n",
       "17          48\n",
       "18         118\n",
       "19         440\n",
       "20         266\n",
       "21          58\n",
       "22         543\n",
       "23          97\n",
       "24        1409\n",
       "25         172\n",
       "26         288\n",
       "27         343\n",
       "28         119\n",
       "29          78\n",
       "          ... \n",
       "159541     346\n",
       "159542     164\n",
       "159543      80\n",
       "159544      19\n",
       "159545     105\n",
       "159546     534\n",
       "159547      30\n",
       "159548      27\n",
       "159549      25\n",
       "159550     173\n",
       "159551     196\n",
       "159552      92\n",
       "159553     888\n",
       "159554     182\n",
       "159555     119\n",
       "159556      57\n",
       "159557     429\n",
       "159558     134\n",
       "159559     357\n",
       "159560    1889\n",
       "159561    1147\n",
       "159562    1015\n",
       "159563     394\n",
       "159564     369\n",
       "159565     653\n",
       "159566     295\n",
       "159567      99\n",
       "159568      81\n",
       "159569     116\n",
       "159570     189\n",
       "Name: comment_text, Length: 159571, dtype: int64"
      ]
     },
     "execution_count": 13,
     "metadata": {},
     "output_type": "execute_result"
    }
   ],
   "source": [
    "#original string length count\n",
    "lengths = df.comment_text.str.len()\n",
    "lengths"
   ]
  },
  {
   "cell_type": "code",
   "execution_count": 14,
   "metadata": {},
   "outputs": [
    {
     "data": {
      "image/png": "[encoded data removed]",
      "text/plain": [
       "<Figure size 432x288 with 1 Axes>"
      ]
     },
     "metadata": {},
     "output_type": "display_data"
    }
   ],
   "source": [
    "#hist plot for original string lengths\n",
    "bin_count = (np.arange(7))*200\n",
    "plt.hist(lengths, bins=bin_count, color='#68aa99')\n",
    "plt.show()"
   ]
  },
  {
   "cell_type": "code",
   "execution_count": 15,
   "metadata": {},
   "outputs": [
    {
     "data": {
      "text/plain": [
       "0         264\n",
       "1         112\n",
       "2         233\n",
       "3         622\n",
       "4          67\n",
       "5          65\n",
       "6          44\n",
       "7         115\n",
       "8         472\n",
       "9          70\n",
       "10        700\n",
       "11         56\n",
       "12        319\n",
       "13        700\n",
       "14        219\n",
       "15        610\n",
       "16         57\n",
       "17         48\n",
       "18        118\n",
       "19        440\n",
       "20        266\n",
       "21         58\n",
       "22        543\n",
       "23         97\n",
       "24        700\n",
       "25        172\n",
       "26        288\n",
       "27        343\n",
       "28        119\n",
       "29         78\n",
       "         ... \n",
       "159541    346\n",
       "159542    164\n",
       "159543     80\n",
       "159544     19\n",
       "159545    105\n",
       "159546    534\n",
       "159547     30\n",
       "159548     27\n",
       "159549     25\n",
       "159550    173\n",
       "159551    196\n",
       "159552     92\n",
       "159553    700\n",
       "159554    182\n",
       "159555    119\n",
       "159556     57\n",
       "159557    429\n",
       "159558    134\n",
       "159559    357\n",
       "159560    700\n",
       "159561    700\n",
       "159562    700\n",
       "159563    394\n",
       "159564    369\n",
       "159565    653\n",
       "159566    295\n",
       "159567     99\n",
       "159568     81\n",
       "159569    116\n",
       "159570    189\n",
       "Name: comment_text, Length: 159571, dtype: int64"
      ]
     },
     "execution_count": 15,
     "metadata": {},
     "output_type": "execute_result"
    }
   ],
   "source": [
    "#trimming the string lengths down\n",
    "new_comments = df.comment_text.str[:700]\n",
    "new_lengths = new_comments.str.len()\n",
    "new_lengths"
   ]
  },
  {
   "cell_type": "code",
   "execution_count": 16,
   "metadata": {},
   "outputs": [
    {
     "data": {
      "image/png": "[encoded data removed]",
      "text/plain": [
       "<Figure size 432x288 with 1 Axes>"
      ]
     },
     "metadata": {},
     "output_type": "display_data"
    }
   ],
   "source": [
    "#hist plot for updated string lengths\n",
    "bin_count = (np.arange(9))*100\n",
    "plt.hist(new_lengths, bins=bin_count, color='#68aa99')\n",
    "plt.show()"
   ]
  },
  {
   "cell_type": "markdown",
   "metadata": {},
   "source": [
    "# Data Cleaning"
   ]
  },
  {
   "cell_type": "code",
   "execution_count": 17,
   "metadata": {},
   "outputs": [],
   "source": [
    "#cleaning the data\n",
    "corporus = []\n",
    "for i in range(0,30000):\n",
    "    text = re.sub('[^a-zA-Z]', ' ', comments[i])\n",
    "    text = text.lower().split()\n",
    "    text = [ps.stem(wnl.lemmatize(word)) for word in set(text) if not word in stopwords.words('english')]\n",
    "    text = ' '.join(text)\n",
    "    corporus.append(text)"
   ]
  },
  {
   "cell_type": "code",
   "execution_count": 18,
   "metadata": {},
   "outputs": [
    {
     "data": {
      "text/plain": [
       "'revert explan templat vote sinc doll talk remov retir ga page fac york metallica usernam new made edit vandal fan closur pleas hardcor'"
      ]
     },
     "execution_count": 18,
     "metadata": {},
     "output_type": "execute_result"
    }
   ],
   "source": [
    "corporus[0]"
   ]
  },
  {
   "cell_type": "markdown",
   "metadata": {},
   "source": [
    "## Data Vectorization"
   ]
  },
  {
   "cell_type": "code",
   "execution_count": 19,
   "metadata": {},
   "outputs": [
    {
     "data": {
      "text/plain": [
       "(30000, 10000)"
      ]
     },
     "execution_count": 19,
     "metadata": {},
     "output_type": "execute_result"
    }
   ],
   "source": [
    "#BoW model\n",
    "from sklearn.feature_extraction.text import CountVectorizer\n",
    "cv = CountVectorizer(max_features = 10000)\n",
    "X = cv.fit_transform(corporus)\n",
    "X.shape"
   ]
  },
  {
   "cell_type": "markdown",
   "metadata": {},
   "source": [
    "### Target Matrix"
   ]
  },
  {
   "cell_type": "code",
   "execution_count": 20,
   "metadata": {},
   "outputs": [
    {
     "data": {
      "text/plain": [
       "array([[0, 0, 0, 0, 0, 0],\n",
       "       [0, 0, 0, 0, 0, 0],\n",
       "       [0, 0, 0, 0, 0, 0],\n",
       "       ...,\n",
       "       [0, 0, 0, 0, 0, 0],\n",
       "       [0, 0, 0, 0, 0, 0],\n",
       "       [0, 0, 0, 0, 0, 0]])"
      ]
     },
     "execution_count": 20,
     "metadata": {},
     "output_type": "execute_result"
    }
   ],
   "source": [
    "#target matrix\n",
    "y = df.iloc[:30000, 2:8].values\n",
    "y"
   ]
  },
  {
   "cell_type": "code",
   "execution_count": 21,
   "metadata": {},
   "outputs": [
    {
     "data": {
      "text/plain": [
       "(30000, 6)"
      ]
     },
     "execution_count": 21,
     "metadata": {},
     "output_type": "execute_result"
    }
   ],
   "source": [
    "y.shape"
   ]
  },
  {
   "cell_type": "markdown",
   "metadata": {},
   "source": [
    "---"
   ]
  },
  {
   "cell_type": "markdown",
   "metadata": {},
   "source": [
    "# RFC Modelling "
   ]
  },
  {
   "cell_type": "code",
   "execution_count": 22,
   "metadata": {},
   "outputs": [],
   "source": [
    "#Random Forect Classification (with low estimator count)\n",
    "from sklearn.ensemble import RandomForestClassifier\n",
    "rfc = RandomForestClassifier(n_estimators = 2, criterion='entropy')"
   ]
  },
  {
   "cell_type": "code",
   "execution_count": 23,
   "metadata": {},
   "outputs": [
    {
     "data": {
      "text/plain": [
       "RandomForestClassifier(bootstrap=True, class_weight=None, criterion='entropy',\n",
       "            max_depth=None, max_features='auto', max_leaf_nodes=None,\n",
       "            min_impurity_decrease=0.0, min_impurity_split=None,\n",
       "            min_samples_leaf=1, min_samples_split=2,\n",
       "            min_weight_fraction_leaf=0.0, n_estimators=2, n_jobs=None,\n",
       "            oob_score=False, random_state=None, verbose=0,\n",
       "            warm_start=False)"
      ]
     },
     "execution_count": 23,
     "metadata": {},
     "output_type": "execute_result"
    }
   ],
   "source": [
    "#fitting the model\n",
    "rfc.fit(X, y)"
   ]
  },
  {
   "cell_type": "markdown",
   "metadata": {},
   "source": [
    "---"
   ]
  },
  {
   "cell_type": "markdown",
   "metadata": {},
   "source": [
    "# Model Validation (on split data)"
   ]
  },
  {
   "cell_type": "markdown",
   "metadata": {},
   "source": [
    "### Spliting the Data"
   ]
  },
  {
   "cell_type": "code",
   "execution_count": 24,
   "metadata": {},
   "outputs": [],
   "source": [
    "# NOTE:- X and y are already preprocessed\n",
    "\n",
    "#split data for Validation\n",
    "from sklearn.model_selection import train_test_split\n",
    "X_train_v, X_test_v, y_train_v, y_test_v = train_test_split(X, y, test_size = 0.15, random_state=0)"
   ]
  },
  {
   "cell_type": "markdown",
   "metadata": {},
   "source": [
    "### Prediction on split data"
   ]
  },
  {
   "cell_type": "code",
   "execution_count": 25,
   "metadata": {},
   "outputs": [
    {
     "data": {
      "text/plain": [
       "array([[0., 0., 0., 0., 0., 0.],\n",
       "       [1., 0., 1., 0., 0., 0.],\n",
       "       [0., 0., 0., 0., 0., 0.],\n",
       "       ...,\n",
       "       [0., 0., 0., 0., 0., 0.],\n",
       "       [0., 0., 0., 0., 0., 0.],\n",
       "       [0., 0., 0., 0., 0., 0.]])"
      ]
     },
     "execution_count": 25,
     "metadata": {},
     "output_type": "execute_result"
    }
   ],
   "source": [
    "#predicted matrix\n",
    "y_pred_v = rfc.predict(X_test_v)\n",
    "y_pred_v"
   ]
  },
  {
   "cell_type": "markdown",
   "metadata": {},
   "source": [
    "### Performance Evaluation"
   ]
  },
  {
   "cell_type": "code",
   "execution_count": 26,
   "metadata": {},
   "outputs": [
    {
     "data": {
      "text/plain": [
       "array([[4466,    2,    0,    0,    0],\n",
       "       [   7,   10,    0,    0,    0],\n",
       "       [   1,    0,    0,    0,    0],\n",
       "       [   4,    0,    0,    9,    0],\n",
       "       [   1,    0,    0,    0,    0]])"
      ]
     },
     "execution_count": 26,
     "metadata": {},
     "output_type": "execute_result"
    }
   ],
   "source": [
    "#model performance evaluation with confusion matrix\n",
    "from sklearn.metrics import confusion_matrix\n",
    "cm_v = confusion_matrix(y_test_v.argmax(axis=1), y_pred_v.argmax(axis=1))\n",
    "cm_v"
   ]
  },
  {
   "cell_type": "code",
   "execution_count": 27,
   "metadata": {},
   "outputs": [
    {
     "data": {
      "text/plain": [
       "95.8"
      ]
     },
     "execution_count": 27,
     "metadata": {},
     "output_type": "execute_result"
    }
   ],
   "source": [
    "#model performance evaluation with accuracy score\n",
    "from sklearn.metrics import accuracy_score\n",
    "acc_v = accuracy_score(y_test_v, y_pred_v)*100\n",
    "acc_v"
   ]
  },
  {
   "cell_type": "markdown",
   "metadata": {},
   "source": [
    "---"
   ]
  },
  {
   "cell_type": "markdown",
   "metadata": {},
   "source": [
    "---"
   ]
  },
  {
   "cell_type": "markdown",
   "metadata": {},
   "source": [
    "# Model Evaluation (on test data)"
   ]
  },
  {
   "cell_type": "markdown",
   "metadata": {},
   "source": [
    "### Loading Test Data"
   ]
  },
  {
   "cell_type": "code",
   "execution_count": 28,
   "metadata": {},
   "outputs": [
    {
     "data": {
      "text/html": [
       "<div>\n",
       "<style scoped>\n",
       "    .dataframe tbody tr th:only-of-type {\n",
       "        vertical-align: middle;\n",
       "    }\n",
       "\n",
       "    .dataframe tbody tr th {\n",
       "        vertical-align: top;\n",
       "    }\n",
       "\n",
       "    .dataframe thead th {\n",
       "        text-align: right;\n",
       "    }\n",
       "</style>\n",
       "<table border=\"1\" class=\"dataframe\">\n",
       "  <thead>\n",
       "    <tr style=\"text-align: right;\">\n",
       "      <th></th>\n",
       "      <th>comment_text</th>\n",
       "    </tr>\n",
       "  </thead>\n",
       "  <tbody>\n",
       "    <tr>\n",
       "      <th>0</th>\n",
       "      <td>Yo bitch Ja Rule is more succesful then you'll...</td>\n",
       "    </tr>\n",
       "    <tr>\n",
       "      <th>1</th>\n",
       "      <td>== From RfC == \\n\\n The title is fine as it is...</td>\n",
       "    </tr>\n",
       "    <tr>\n",
       "      <th>2</th>\n",
       "      <td>\" \\n\\n == Sources == \\n\\n * Zawe Ashton on Lap...</td>\n",
       "    </tr>\n",
       "    <tr>\n",
       "      <th>3</th>\n",
       "      <td>:If you have a look back at the source, the in...</td>\n",
       "    </tr>\n",
       "    <tr>\n",
       "      <th>4</th>\n",
       "      <td>I don't anonymously edit articles at all.</td>\n",
       "    </tr>\n",
       "    <tr>\n",
       "      <th>5</th>\n",
       "      <td>Thank you for understanding. I think very high...</td>\n",
       "    </tr>\n",
       "    <tr>\n",
       "      <th>6</th>\n",
       "      <td>Please do not add nonsense to Wikipedia. Such ...</td>\n",
       "    </tr>\n",
       "    <tr>\n",
       "      <th>7</th>\n",
       "      <td>:Dear god this site is horrible.</td>\n",
       "    </tr>\n",
       "    <tr>\n",
       "      <th>8</th>\n",
       "      <td>\" \\n Only a fool can believe in such numbers. ...</td>\n",
       "    </tr>\n",
       "    <tr>\n",
       "      <th>9</th>\n",
       "      <td>== Double Redirects == \\n\\n When fixing double...</td>\n",
       "    </tr>\n",
       "    <tr>\n",
       "      <th>10</th>\n",
       "      <td>I think its crap that the link to roggenbier i...</td>\n",
       "    </tr>\n",
       "    <tr>\n",
       "      <th>11</th>\n",
       "      <td>\"::: Somebody will invariably try to add Relig...</td>\n",
       "    </tr>\n",
       "    <tr>\n",
       "      <th>12</th>\n",
       "      <td>, 25 February 2010 (UTC) \\n\\n :::Looking it ov...</td>\n",
       "    </tr>\n",
       "    <tr>\n",
       "      <th>13</th>\n",
       "      <td>\" \\n\\n It says it right there that it IS a typ...</td>\n",
       "    </tr>\n",
       "    <tr>\n",
       "      <th>14</th>\n",
       "      <td>\" \\n\\n == Before adding a new product to the l...</td>\n",
       "    </tr>\n",
       "    <tr>\n",
       "      <th>15</th>\n",
       "      <td>==Current Position== \\n Anyone have confirmati...</td>\n",
       "    </tr>\n",
       "    <tr>\n",
       "      <th>16</th>\n",
       "      <td>this other one from 1897</td>\n",
       "    </tr>\n",
       "    <tr>\n",
       "      <th>17</th>\n",
       "      <td>== Reason for banning throwing == \\n\\n This ar...</td>\n",
       "    </tr>\n",
       "    <tr>\n",
       "      <th>18</th>\n",
       "      <td>:: Wallamoose was changing the cited material ...</td>\n",
       "    </tr>\n",
       "    <tr>\n",
       "      <th>19</th>\n",
       "      <td>|blocked]] from editing Wikipedia.   |</td>\n",
       "    </tr>\n",
       "    <tr>\n",
       "      <th>20</th>\n",
       "      <td>==Indefinitely blocked== \\n I have indefinitel...</td>\n",
       "    </tr>\n",
       "    <tr>\n",
       "      <th>21</th>\n",
       "      <td>== Arabs are committing genocide in Iraq, but ...</td>\n",
       "    </tr>\n",
       "    <tr>\n",
       "      <th>22</th>\n",
       "      <td>Please stop. If you continue to vandalize Wiki...</td>\n",
       "    </tr>\n",
       "    <tr>\n",
       "      <th>23</th>\n",
       "      <td>== Energy  == \\n\\n I have edited the introduct...</td>\n",
       "    </tr>\n",
       "    <tr>\n",
       "      <th>24</th>\n",
       "      <td>:yeah, thanks for reviving the tradition of pi...</td>\n",
       "    </tr>\n",
       "    <tr>\n",
       "      <th>25</th>\n",
       "      <td>MLM Software,NBFC software,Non Banking Financi...</td>\n",
       "    </tr>\n",
       "    <tr>\n",
       "      <th>26</th>\n",
       "      <td>@RedSlash, cut it short. If you have sources s...</td>\n",
       "    </tr>\n",
       "    <tr>\n",
       "      <th>27</th>\n",
       "      <td>==================== \\n Deception is the way o...</td>\n",
       "    </tr>\n",
       "    <tr>\n",
       "      <th>28</th>\n",
       "      <td>. \\n\\n           Jews are not a race because y...</td>\n",
       "    </tr>\n",
       "    <tr>\n",
       "      <th>29</th>\n",
       "      <td>:::If Ollie or others think that one list of t...</td>\n",
       "    </tr>\n",
       "    <tr>\n",
       "      <th>...</th>\n",
       "      <td>...</td>\n",
       "    </tr>\n",
       "    <tr>\n",
       "      <th>9970</th>\n",
       "      <td>==No COI yet the picture belongs to Wintertana...</td>\n",
       "    </tr>\n",
       "    <tr>\n",
       "      <th>9971</th>\n",
       "      <td>\":: You think it is \"\"ridiculous\"\", I don't (p...</td>\n",
       "    </tr>\n",
       "    <tr>\n",
       "      <th>9972</th>\n",
       "      <td>clue bot sucks bull acks assey</td>\n",
       "    </tr>\n",
       "    <tr>\n",
       "      <th>9973</th>\n",
       "      <td>==16 Jan 2007== \\n Please do not add nonsense ...</td>\n",
       "    </tr>\n",
       "    <tr>\n",
       "      <th>9974</th>\n",
       "      <td>\"::2nd that ! Same is true for the \"\"COB\"\" dis...</td>\n",
       "    </tr>\n",
       "    <tr>\n",
       "      <th>9975</th>\n",
       "      <td>redirectThe Elfstones of Shannara</td>\n",
       "    </tr>\n",
       "    <tr>\n",
       "      <th>9976</th>\n",
       "      <td>\", so instead of making an article of Plox I h...</td>\n",
       "    </tr>\n",
       "    <tr>\n",
       "      <th>9977</th>\n",
       "      <td>::::For singers and actors a picture that most...</td>\n",
       "    </tr>\n",
       "    <tr>\n",
       "      <th>9978</th>\n",
       "      <td>== Cell =/= membrane == \\n\\n Cell potential an...</td>\n",
       "    </tr>\n",
       "    <tr>\n",
       "      <th>9979</th>\n",
       "      <td>get the fuck away from me.</td>\n",
       "    </tr>\n",
       "    <tr>\n",
       "      <th>9980</th>\n",
       "      <td>\" \\n\\n I fail to see why you need this explain...</td>\n",
       "    </tr>\n",
       "    <tr>\n",
       "      <th>9981</th>\n",
       "      <td>:Done.  Article is now at .  Happy editing!</td>\n",
       "    </tr>\n",
       "    <tr>\n",
       "      <th>9982</th>\n",
       "      <td>Firebomb is a kind of bomb. This one was outsi...</td>\n",
       "    </tr>\n",
       "    <tr>\n",
       "      <th>9983</th>\n",
       "      <td>:*I don't know what you saw, but no, nobody ev...</td>\n",
       "    </tr>\n",
       "    <tr>\n",
       "      <th>9984</th>\n",
       "      <td>\" \\n\\n ==Speedy deletion of Sharpo== \\n  A tag...</td>\n",
       "    </tr>\n",
       "    <tr>\n",
       "      <th>9985</th>\n",
       "      <td>This is not your user talk page, Please move.</td>\n",
       "    </tr>\n",
       "    <tr>\n",
       "      <th>9986</th>\n",
       "      <td>:wtf? im not removing content. im adding content</td>\n",
       "    </tr>\n",
       "    <tr>\n",
       "      <th>9987</th>\n",
       "      <td>Deletion  \\n\\n Someone deleted this section: \\...</td>\n",
       "    </tr>\n",
       "    <tr>\n",
       "      <th>9988</th>\n",
       "      <td>Agreed... removed the section that sounded too...</td>\n",
       "    </tr>\n",
       "    <tr>\n",
       "      <th>9989</th>\n",
       "      <td>== Huge Contours == \\n\\n Some people live on c...</td>\n",
       "    </tr>\n",
       "    <tr>\n",
       "      <th>9990</th>\n",
       "      <td>\" \\n\\n == Formula Mass == \\n\\n Formula mass cu...</td>\n",
       "    </tr>\n",
       "    <tr>\n",
       "      <th>9991</th>\n",
       "      <td>== Notifying participants == \\n\\n Notifying al...</td>\n",
       "    </tr>\n",
       "    <tr>\n",
       "      <th>9992</th>\n",
       "      <td>:2 days later and I FINALLY figured out what w...</td>\n",
       "    </tr>\n",
       "    <tr>\n",
       "      <th>9993</th>\n",
       "      <td>: It hasn't caused Chaos, just a lot of garbage.</td>\n",
       "    </tr>\n",
       "    <tr>\n",
       "      <th>9994</th>\n",
       "      <td>\" \\n\\n :Rugby is never refered to simply as fo...</td>\n",
       "    </tr>\n",
       "    <tr>\n",
       "      <th>9995</th>\n",
       "      <td>Justin Timberlake is Gay</td>\n",
       "    </tr>\n",
       "    <tr>\n",
       "      <th>9996</th>\n",
       "      <td>the blokes a welsh twat</td>\n",
       "    </tr>\n",
       "    <tr>\n",
       "      <th>9997</th>\n",
       "      <td>== A belated welcome! == \\n\\n ]]Here's wishing...</td>\n",
       "    </tr>\n",
       "    <tr>\n",
       "      <th>9998</th>\n",
       "      <td>\", 26 September 2010 (UTC) \\n :::::::Ugghhhh e...</td>\n",
       "    </tr>\n",
       "    <tr>\n",
       "      <th>9999</th>\n",
       "      <td>::Hooray! A non-POV discussion!</td>\n",
       "    </tr>\n",
       "  </tbody>\n",
       "</table>\n",
       "<p>10000 rows × 1 columns</p>\n",
       "</div>"
      ],
      "text/plain": [
       "                                           comment_text\n",
       "0     Yo bitch Ja Rule is more succesful then you'll...\n",
       "1     == From RfC == \\n\\n The title is fine as it is...\n",
       "2     \" \\n\\n == Sources == \\n\\n * Zawe Ashton on Lap...\n",
       "3     :If you have a look back at the source, the in...\n",
       "4             I don't anonymously edit articles at all.\n",
       "5     Thank you for understanding. I think very high...\n",
       "6     Please do not add nonsense to Wikipedia. Such ...\n",
       "7                      :Dear god this site is horrible.\n",
       "8     \" \\n Only a fool can believe in such numbers. ...\n",
       "9     == Double Redirects == \\n\\n When fixing double...\n",
       "10    I think its crap that the link to roggenbier i...\n",
       "11    \"::: Somebody will invariably try to add Relig...\n",
       "12    , 25 February 2010 (UTC) \\n\\n :::Looking it ov...\n",
       "13    \" \\n\\n It says it right there that it IS a typ...\n",
       "14    \" \\n\\n == Before adding a new product to the l...\n",
       "15    ==Current Position== \\n Anyone have confirmati...\n",
       "16                             this other one from 1897\n",
       "17    == Reason for banning throwing == \\n\\n This ar...\n",
       "18    :: Wallamoose was changing the cited material ...\n",
       "19               |blocked]] from editing Wikipedia.   |\n",
       "20    ==Indefinitely blocked== \\n I have indefinitel...\n",
       "21    == Arabs are committing genocide in Iraq, but ...\n",
       "22    Please stop. If you continue to vandalize Wiki...\n",
       "23    == Energy  == \\n\\n I have edited the introduct...\n",
       "24    :yeah, thanks for reviving the tradition of pi...\n",
       "25    MLM Software,NBFC software,Non Banking Financi...\n",
       "26    @RedSlash, cut it short. If you have sources s...\n",
       "27    ==================== \\n Deception is the way o...\n",
       "28    . \\n\\n           Jews are not a race because y...\n",
       "29    :::If Ollie or others think that one list of t...\n",
       "...                                                 ...\n",
       "9970  ==No COI yet the picture belongs to Wintertana...\n",
       "9971  \":: You think it is \"\"ridiculous\"\", I don't (p...\n",
       "9972                     clue bot sucks bull acks assey\n",
       "9973  ==16 Jan 2007== \\n Please do not add nonsense ...\n",
       "9974  \"::2nd that ! Same is true for the \"\"COB\"\" dis...\n",
       "9975                  redirectThe Elfstones of Shannara\n",
       "9976  \", so instead of making an article of Plox I h...\n",
       "9977  ::::For singers and actors a picture that most...\n",
       "9978  == Cell =/= membrane == \\n\\n Cell potential an...\n",
       "9979                         get the fuck away from me.\n",
       "9980  \" \\n\\n I fail to see why you need this explain...\n",
       "9981        :Done.  Article is now at .  Happy editing!\n",
       "9982  Firebomb is a kind of bomb. This one was outsi...\n",
       "9983  :*I don't know what you saw, but no, nobody ev...\n",
       "9984  \" \\n\\n ==Speedy deletion of Sharpo== \\n  A tag...\n",
       "9985      This is not your user talk page, Please move.\n",
       "9986   :wtf? im not removing content. im adding content\n",
       "9987  Deletion  \\n\\n Someone deleted this section: \\...\n",
       "9988  Agreed... removed the section that sounded too...\n",
       "9989  == Huge Contours == \\n\\n Some people live on c...\n",
       "9990  \" \\n\\n == Formula Mass == \\n\\n Formula mass cu...\n",
       "9991  == Notifying participants == \\n\\n Notifying al...\n",
       "9992  :2 days later and I FINALLY figured out what w...\n",
       "9993   : It hasn't caused Chaos, just a lot of garbage.\n",
       "9994  \" \\n\\n :Rugby is never refered to simply as fo...\n",
       "9995                           Justin Timberlake is Gay\n",
       "9996                            the blokes a welsh twat\n",
       "9997  == A belated welcome! == \\n\\n ]]Here's wishing...\n",
       "9998  \", 26 September 2010 (UTC) \\n :::::::Ugghhhh e...\n",
       "9999                    ::Hooray! A non-POV discussion!\n",
       "\n",
       "[10000 rows x 1 columns]"
      ]
     },
     "execution_count": 28,
     "metadata": {},
     "output_type": "execute_result"
    }
   ],
   "source": [
    "#importing test data\n",
    "test_df = pd.read_csv('../input/test.csv', quotechar='\"', skipinitialspace=True)\n",
    "test_df = test_df.iloc[:10000,1:2]\n",
    "test_df"
   ]
  },
  {
   "cell_type": "markdown",
   "metadata": {},
   "source": [
    "### Test Data Preprocessing"
   ]
  },
  {
   "cell_type": "code",
   "execution_count": 29,
   "metadata": {},
   "outputs": [
    {
     "data": {
      "text/plain": [
       "0       367\n",
       "1        50\n",
       "2        54\n",
       "3       205\n",
       "4        41\n",
       "5        96\n",
       "6       176\n",
       "7        32\n",
       "8       556\n",
       "9       224\n",
       "10      119\n",
       "11      448\n",
       "12      293\n",
       "13      501\n",
       "14      334\n",
       "15      113\n",
       "16       24\n",
       "17      159\n",
       "18      336\n",
       "19       38\n",
       "20       68\n",
       "21      104\n",
       "22      115\n",
       "23      485\n",
       "24      178\n",
       "25      600\n",
       "26      144\n",
       "27      101\n",
       "28      209\n",
       "29      336\n",
       "       ... \n",
       "9970    236\n",
       "9971    509\n",
       "9972     30\n",
       "9973    147\n",
       "9974    123\n",
       "9975     33\n",
       "9976    337\n",
       "9977    420\n",
       "9978    171\n",
       "9979     26\n",
       "9980    600\n",
       "9981     43\n",
       "9982    178\n",
       "9983    600\n",
       "9984    600\n",
       "9985     45\n",
       "9986     48\n",
       "9987    443\n",
       "9988    148\n",
       "9989    146\n",
       "9990    250\n",
       "9991    248\n",
       "9992    276\n",
       "9993     48\n",
       "9994    353\n",
       "9995     24\n",
       "9996     23\n",
       "9997    600\n",
       "9998    167\n",
       "9999     31\n",
       "Name: comment_text, Length: 10000, dtype: int64"
      ]
     },
     "execution_count": 29,
     "metadata": {},
     "output_type": "execute_result"
    }
   ],
   "source": [
    "#trimmed string length\n",
    "new_test_comments = test_df.comment_text.str[:600]\n",
    "new_test_lengths = new_test_comments.str.len()\n",
    "new_test_lengths"
   ]
  },
  {
   "cell_type": "code",
   "execution_count": 30,
   "metadata": {},
   "outputs": [
    {
     "data": {
      "image/png": "[encoded data removed]",
      "text/plain": [
       "<Figure size 432x288 with 1 Axes>"
      ]
     },
     "metadata": {},
     "output_type": "display_data"
    }
   ],
   "source": [
    "#new hist plot\n",
    "bin_count = (np.arange(9))*100\n",
    "plt.hist(new_test_lengths, bins=bin_count, color='#68aa99')\n",
    "plt.show()"
   ]
  },
  {
   "cell_type": "code",
   "execution_count": 31,
   "metadata": {},
   "outputs": [
    {
     "data": {
      "text/plain": [
       "\"Yo bitch Ja Rule is more succesful then you'll ever be whats up with you and hating you sad mofuckas...i should bitch slap ur pethedic white faces and get you to kiss my ass you guys sicken me. Ja rule is about pride in da music man. dont diss that shit on him. and nothin is wrong bein like tupac he was a brother too...fuckin white boys get things right next time.,\""
      ]
     },
     "execution_count": 31,
     "metadata": {},
     "output_type": "execute_result"
    }
   ],
   "source": [
    "new_test_comments[0]"
   ]
  },
  {
   "cell_type": "markdown",
   "metadata": {},
   "source": [
    "### Test Data Cleaning"
   ]
  },
  {
   "cell_type": "code",
   "execution_count": 32,
   "metadata": {},
   "outputs": [],
   "source": [
    "#cleaning the test data\n",
    "test_corporus = []\n",
    "for i in range(0,10000):\n",
    "    text = re.sub('[^a-zA-Z]', ' ', new_test_comments[i])\n",
    "    text = text.lower().split()\n",
    "    text = [ps.stem(wnl.lemmatize(word)) for word in set(text) if not word in stopwords.words('english')]\n",
    "    text = ' '.join(text)\n",
    "    test_corporus.append(text)"
   ]
  },
  {
   "cell_type": "code",
   "execution_count": 33,
   "metadata": {},
   "outputs": [
    {
     "data": {
      "text/plain": [
       "'sad wrong pride right man rule time what slap pethed succes white thing bein tupac face like bitch di get yo ur guy music da kiss boy hate shit next dont fuckin brother nothin sicken ja ever mofucka as'"
      ]
     },
     "execution_count": 33,
     "metadata": {},
     "output_type": "execute_result"
    }
   ],
   "source": [
    "test_corporus[0]"
   ]
  },
  {
   "cell_type": "markdown",
   "metadata": {},
   "source": [
    "### Test Data Vectorization"
   ]
  },
  {
   "cell_type": "code",
   "execution_count": 34,
   "metadata": {},
   "outputs": [
    {
     "data": {
      "text/plain": [
       "(10000, 10000)"
      ]
     },
     "execution_count": 34,
     "metadata": {},
     "output_type": "execute_result"
    }
   ],
   "source": [
    "X_test = cv.fit_transform(test_corporus)\n",
    "X_test.shape"
   ]
  },
  {
   "cell_type": "markdown",
   "metadata": {},
   "source": [
    "### Prediction on Test Data"
   ]
  },
  {
   "cell_type": "code",
   "execution_count": 35,
   "metadata": {},
   "outputs": [
    {
     "data": {
      "text/plain": [
       "array([[1., 0., 0., 0., 1., 0.],\n",
       "       [0., 0., 0., 0., 0., 0.],\n",
       "       [0., 0., 0., 0., 0., 0.],\n",
       "       ...,\n",
       "       [0., 0., 0., 0., 0., 0.],\n",
       "       [0., 0., 0., 0., 0., 0.],\n",
       "       [0., 0., 0., 0., 0., 0.]])"
      ]
     },
     "execution_count": 35,
     "metadata": {},
     "output_type": "execute_result"
    }
   ],
   "source": [
    "#predicted matrix\n",
    "y_pred = rfc.predict(X_test)\n",
    "y_pred"
   ]
  },
  {
   "cell_type": "markdown",
   "metadata": {},
   "source": [
    "### Test Data Labels for evaluation"
   ]
  },
  {
   "cell_type": "code",
   "execution_count": 36,
   "metadata": {},
   "outputs": [
    {
     "data": {
      "text/plain": [
       "array([[-1, -1, -1, -1, -1, -1],\n",
       "       [-1, -1, -1, -1, -1, -1],\n",
       "       [-1, -1, -1, -1, -1, -1],\n",
       "       ...,\n",
       "       [-1, -1, -1, -1, -1, -1],\n",
       "       [-1, -1, -1, -1, -1, -1],\n",
       "       [ 0,  0,  0,  0,  0,  0]])"
      ]
     },
     "execution_count": 36,
     "metadata": {},
     "output_type": "execute_result"
    }
   ],
   "source": [
    "#imporing tset data labels for evaluation\n",
    "labels_df = pd.read_csv('../input/test_labels.csv', quotechar='\"', skipinitialspace=True)\n",
    "test_labels = labels_df.iloc[:10000,[1,2,3,4,5,6]].values\n",
    "test_labels"
   ]
  },
  {
   "cell_type": "code",
   "execution_count": 37,
   "metadata": {},
   "outputs": [
    {
     "data": {
      "text/plain": [
       "(10000, 6)"
      ]
     },
     "execution_count": 37,
     "metadata": {},
     "output_type": "execute_result"
    }
   ],
   "source": [
    "test_labels.shape"
   ]
  },
  {
   "cell_type": "markdown",
   "metadata": {},
   "source": [
    "### Performance Evaluation"
   ]
  },
  {
   "cell_type": "code",
   "execution_count": 38,
   "metadata": {},
   "outputs": [
    {
     "data": {
      "text/plain": [
       "array([[9933,   51,    6,    3],\n",
       "       [   2,    0,    0,    0],\n",
       "       [   2,    0,    0,    0],\n",
       "       [   3,    0,    0,    0]])"
      ]
     },
     "execution_count": 38,
     "metadata": {},
     "output_type": "execute_result"
    }
   ],
   "source": [
    "#model performance evaluation with confusion matrix\n",
    "from sklearn.metrics import confusion_matrix\n",
    "cm = confusion_matrix(test_labels.argmax(axis=1), y_pred.argmax(axis=1))\n",
    "cm"
   ]
  },
  {
   "cell_type": "markdown",
   "metadata": {},
   "source": [
    "---"
   ]
  },
  {
   "cell_type": "markdown",
   "metadata": {},
   "source": [
    "# Saving as Pickle"
   ]
  },
  {
   "cell_type": "code",
   "execution_count": 40,
   "metadata": {},
   "outputs": [
    {
     "data": {
      "text/plain": [
       "['rfc_model.pkl']"
      ]
     },
     "execution_count": 40,
     "metadata": {},
     "output_type": "execute_result"
    }
   ],
   "source": [
    "'''\n",
    "#loading the pickle\n",
    "rfc_load = joblib.load('rfc_model.pkl')\n",
    "#verifying the pickle\n",
    "assert clf.score(X, y) == clf_load.score(X, y)\n",
    "'''\n",
    "\n",
    "#saving the model as pickle\n",
    "from sklearn.externals import joblib\n",
    "joblib.dump(rfc, 'rfc_model.pkl') "
   ]
  }
 ],
 "metadata": {
  "kernelspec": {
   "display_name": "Python 3",
   "language": "python",
   "name": "python3"
  },
  "language_info": {
   "codemirror_mode": {
    "name": "ipython",
    "version": 3
   },
   "file_extension": ".py",
   "mimetype": "text/x-python",
   "name": "python",
   "nbconvert_exporter": "python",
   "pygments_lexer": "ipython3",
   "version": "3.6.7"
  }
 },
 "nbformat": 4,
 "nbformat_minor": 1
}
